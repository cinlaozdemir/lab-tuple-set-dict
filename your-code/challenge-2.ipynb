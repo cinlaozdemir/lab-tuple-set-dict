{
 "cells": [
  {
   "cell_type": "markdown",
   "metadata": {},
   "source": [
    "## Challenge 2: Sets\n",
    "\n",
    "There are a lot to learn about Python Sets and the information presented in the lesson is limited due to its length. To learn Python Sets in depth you are strongly encouraged to review the W3Schools tutorial on [Python Sets Examples and Methods](https://www.w3schools.com/python/python_sets.asp) before you work on this lab. Some difficult questions in this lab have their solutions in the W3Schools tutorial.\n",
    "\n",
    "#### First, import the Python `random` library."
   ]
  },
  {
   "cell_type": "code",
   "execution_count": 1,
   "metadata": {},
   "outputs": [],
   "source": [
    "import random"
   ]
  },
  {
   "cell_type": "markdown",
   "metadata": {},
   "source": [
    "#### In the cell below, create a list named `sample_list_1` with 80 random values. \n",
    "\n",
    "Requirements:\n",
    "\n",
    "* Each value is an integer falling between 0 and 100.\n",
    "* Each value in the list is unique.\n",
    "\n",
    "Print `sample_list_1` to review its values\n",
    "\n",
    "*Hint: use `random.sample` ([reference](https://docs.python.org/3/library/random.html#random.sample)).*"
   ]
  },
  {
   "cell_type": "code",
   "execution_count": 2,
   "metadata": {},
   "outputs": [
    {
     "data": {
      "text/plain": [
       "[45,\n",
       " 98,\n",
       " 97,\n",
       " 53,\n",
       " 50,\n",
       " 80,\n",
       " 42,\n",
       " 71,\n",
       " 67,\n",
       " 15,\n",
       " 41,\n",
       " 83,\n",
       " 16,\n",
       " 10,\n",
       " 21,\n",
       " 8,\n",
       " 87,\n",
       " 82,\n",
       " 39,\n",
       " 17,\n",
       " 28,\n",
       " 35,\n",
       " 85,\n",
       " 76,\n",
       " 70,\n",
       " 96,\n",
       " 31,\n",
       " 63,\n",
       " 58,\n",
       " 3,\n",
       " 48,\n",
       " 79,\n",
       " 86,\n",
       " 25,\n",
       " 6,\n",
       " 81,\n",
       " 55,\n",
       " 36,\n",
       " 77,\n",
       " 51,\n",
       " 44,\n",
       " 66,\n",
       " 52,\n",
       " 47,\n",
       " 5,\n",
       " 75,\n",
       " 34,\n",
       " 13,\n",
       " 99,\n",
       " 18,\n",
       " 32,\n",
       " 95,\n",
       " 12,\n",
       " 84,\n",
       " 38,\n",
       " 24,\n",
       " 33,\n",
       " 7,\n",
       " 59,\n",
       " 37,\n",
       " 72,\n",
       " 61,\n",
       " 74,\n",
       " 93,\n",
       " 22,\n",
       " 1,\n",
       " 90,\n",
       " 89,\n",
       " 54,\n",
       " 2,\n",
       " 94,\n",
       " 88,\n",
       " 40,\n",
       " 73,\n",
       " 27,\n",
       " 20,\n",
       " 46,\n",
       " 91,\n",
       " 100,\n",
       " 68]"
      ]
     },
     "execution_count": 2,
     "metadata": {},
     "output_type": "execute_result"
    }
   ],
   "source": [
    "sample_list_1=random.sample(range(101),80)\n",
    "sample_list_1"
   ]
  },
  {
   "cell_type": "markdown",
   "metadata": {},
   "source": [
    "#### Convert `sample_list_1` to a set called `set1`. Print the length of the set. Is its length still 80?"
   ]
  },
  {
   "cell_type": "code",
   "execution_count": 3,
   "metadata": {},
   "outputs": [
    {
     "name": "stdout",
     "output_type": "stream",
     "text": [
      "80\n"
     ]
    },
    {
     "data": {
      "text/plain": [
       "True"
      ]
     },
     "execution_count": 3,
     "metadata": {},
     "output_type": "execute_result"
    }
   ],
   "source": [
    "set1=set(sample_list_1)\n",
    "print(len(set(sample_list_1)))\n",
    "len(set(sample_list_1))==len(sample_list_1)"
   ]
  },
  {
   "cell_type": "markdown",
   "metadata": {},
   "source": [
    "#### Create another list named `sample_list_2` with 80 random values.\n",
    "\n",
    "Requirements:\n",
    "\n",
    "* Each value is an integer falling between 0 and 100.\n",
    "* The values in the list don't have to be unique.\n",
    "\n",
    "*Hint: Use a FOR loop and the `randrange()` function.*"
   ]
  },
  {
   "cell_type": "code",
   "execution_count": 4,
   "metadata": {},
   "outputs": [
    {
     "name": "stdout",
     "output_type": "stream",
     "text": [
      "[35, 28, 46, 21, 71, 78, 83, 14, 68, 78, 41, 8, 55, 60, 53, 19, 68, 19, 61, 26, 96, 21, 48, 77, 7, 32, 41, 45, 63, 60, 32, 94, 34, 24, 38, 57, 66, 46, 39, 21, 73, 60, 87, 94, 35, 91, 60, 31, 71, 40, 49, 94, 17, 52, 1, 14, 50, 19, 8, 72, 81, 44, 61, 23, 33, 16, 48, 58, 39, 76, 70, 58, 32, 91, 71, 18, 63, 50, 56, 64]\n"
     ]
    }
   ],
   "source": [
    "sample_list_2=[random.randrange(0,101) for i in range(80)]\n",
    "print(sample_list_2)"
   ]
  },
  {
   "cell_type": "markdown",
   "metadata": {},
   "source": [
    "#### Convert `sample_list_2` to a set called `set2`. Print the length of the set. Is its length still 80?"
   ]
  },
  {
   "cell_type": "code",
   "execution_count": 5,
   "metadata": {},
   "outputs": [
    {
     "name": "stdout",
     "output_type": "stream",
     "text": [
      "53\n"
     ]
    },
    {
     "data": {
      "text/plain": [
       "False"
      ]
     },
     "execution_count": 5,
     "metadata": {},
     "output_type": "execute_result"
    }
   ],
   "source": [
    "set2=set(sample_list_2)\n",
    "print(len(set(sample_list_2)))\n",
    "len(sample_list_2)==len(set(sample_list_2))"
   ]
  },
  {
   "cell_type": "markdown",
   "metadata": {},
   "source": [
    "#### Identify the elements present in `set1` but not in `set2`. Assign the elements to a new set named `set3`."
   ]
  },
  {
   "cell_type": "code",
   "execution_count": 6,
   "metadata": {},
   "outputs": [
    {
     "name": "stdout",
     "output_type": "stream",
     "text": [
      "{2, 3, 5, 6, 10, 12, 13, 15, 20, 22, 25, 27, 36, 37, 42, 47, 51, 54, 59, 67, 74, 75, 79, 80, 82, 84, 85, 86, 88, 89, 90, 93, 95, 97, 98, 99, 100}\n"
     ]
    }
   ],
   "source": [
    "set3=set1-set2\n",
    "print(set3)"
   ]
  },
  {
   "cell_type": "markdown",
   "metadata": {},
   "source": [
    "#### Identify the elements present in `set2` but not in `set1`. Assign the elements to a new set named `set4`."
   ]
  },
  {
   "cell_type": "code",
   "execution_count": 7,
   "metadata": {},
   "outputs": [
    {
     "name": "stdout",
     "output_type": "stream",
     "text": [
      "{64, 14, 78, 49, 19, 23, 56, 57, 26, 60}\n"
     ]
    }
   ],
   "source": [
    "set4=set2-set1\n",
    "print(set4)"
   ]
  },
  {
   "cell_type": "markdown",
   "metadata": {},
   "source": [
    "#### Now Identify the elements shared between `set1` and `set2`. Assign the elements to a new set named `set5`."
   ]
  },
  {
   "cell_type": "code",
   "execution_count": 8,
   "metadata": {},
   "outputs": [
    {
     "data": {
      "text/plain": [
       "{1,\n",
       " 7,\n",
       " 8,\n",
       " 16,\n",
       " 17,\n",
       " 18,\n",
       " 21,\n",
       " 24,\n",
       " 28,\n",
       " 31,\n",
       " 32,\n",
       " 33,\n",
       " 34,\n",
       " 35,\n",
       " 38,\n",
       " 39,\n",
       " 40,\n",
       " 41,\n",
       " 44,\n",
       " 45,\n",
       " 46,\n",
       " 48,\n",
       " 50,\n",
       " 52,\n",
       " 53,\n",
       " 55,\n",
       " 58,\n",
       " 61,\n",
       " 63,\n",
       " 66,\n",
       " 68,\n",
       " 70,\n",
       " 71,\n",
       " 72,\n",
       " 73,\n",
       " 76,\n",
       " 77,\n",
       " 81,\n",
       " 83,\n",
       " 87,\n",
       " 91,\n",
       " 94,\n",
       " 96}"
      ]
     },
     "execution_count": 8,
     "metadata": {},
     "output_type": "execute_result"
    }
   ],
   "source": [
    "set5=set1.intersection(set2)\n",
    "set5"
   ]
  },
  {
   "cell_type": "markdown",
   "metadata": {},
   "source": [
    "#### What is the relationship among the following values:\n",
    "\n",
    "* len(set1)\n",
    "* len(set2)\n",
    "* len(set3)\n",
    "* len(set4)\n",
    "* len(set5)\n",
    "\n",
    "Think about the set operations that you used to create the sets and how the lengths of the sets are related to each other given those operations."
   ]
  },
  {
   "cell_type": "code",
   "execution_count": 16,
   "metadata": {},
   "outputs": [
    {
     "name": "stdout",
     "output_type": "stream",
     "text": [
      "The length of set one is: 80 it's the biggest set\n",
      "The length of set two is 53 because its items didn't have to be unique when we created the list\n",
      "The length of set three is 37 as it has the items that were present in set1 but not in set2\n",
      "The length of set four is 10 it's much smaller than set3 because it has the elements present in set2 but not present in set1. Set2 was not made with unique elements so it was small to begin with\n",
      "The length of set five is 43 the items present both in set1 and in set2\n"
     ]
    }
   ],
   "source": [
    "print(\"The length of set one is:\", len(set1), \"it's the biggest set\")\n",
    "print(\"The length of set two is\", len(set2), \"because its items didn't have to be unique when we created the list\")\n",
    "print(\"The length of set three is\", len(set3), \"as it has the items that were present in set1 but not in set2\")\n",
    "print(\"The length of set four is\", len(set4), \"it's much smaller than set3 because it has the elements present in set2 but not present in set1. Set2 was not made with unique elements so it was small to begin with\")\n",
    "print(\"The length of set five is\", len(set5), \"the items present both in set1 and in set2\")"
   ]
  },
  {
   "cell_type": "markdown",
   "metadata": {},
   "source": [
    "#### Create an empty set called `set6`."
   ]
  },
  {
   "cell_type": "code",
   "execution_count": null,
   "metadata": {},
   "outputs": [],
   "source": [
    "set6=set()"
   ]
  },
  {
   "cell_type": "markdown",
   "metadata": {},
   "source": [
    "#### Add `set3` and `set5` to `set6` using the Python Set `update` method."
   ]
  },
  {
   "cell_type": "code",
   "execution_count": null,
   "metadata": {},
   "outputs": [],
   "source": [
    "set6.update(set3, set5)\n",
    "set6"
   ]
  },
  {
   "cell_type": "markdown",
   "metadata": {},
   "source": [
    "#### Check if `set1` and `set6` are equal."
   ]
  },
  {
   "cell_type": "code",
   "execution_count": null,
   "metadata": {},
   "outputs": [],
   "source": [
    "set1==set6"
   ]
  },
  {
   "cell_type": "markdown",
   "metadata": {},
   "source": [
    "#### Check if `set1` contains `set2` using the Python Set `issubset` method. Then check if `set1` contains `set3`."
   ]
  },
  {
   "cell_type": "code",
   "execution_count": null,
   "metadata": {},
   "outputs": [],
   "source": [
    "q=set2.issubset(set1)\n",
    "print(\"Does set1 contain set2:\",q)\n",
    "w=set3.issubset(set1)\n",
    "print(\"Does set1 contain set3:\", w)"
   ]
  },
  {
   "cell_type": "markdown",
   "metadata": {},
   "source": [
    "#### Using the Python Set `union` method, aggregate `set3`, `set4`, and `set5`. Then aggregate `set1` and `set2`. \n",
    "\n",
    "#### Check if the aggregated values are equal."
   ]
  },
  {
   "cell_type": "code",
   "execution_count": null,
   "metadata": {},
   "outputs": [],
   "source": [
    "t=set3.union(set4, set5)\n",
    "print(t)\n",
    "y=set1.union(set2)\n",
    "print(y)\n",
    "y==t"
   ]
  },
  {
   "cell_type": "markdown",
   "metadata": {},
   "source": [
    "#### Using the `pop` method, remove the first element from `set1`."
   ]
  },
  {
   "cell_type": "code",
   "execution_count": null,
   "metadata": {},
   "outputs": [],
   "source": [
    "p=set1.pop()\n",
    "p"
   ]
  },
  {
   "cell_type": "markdown",
   "metadata": {},
   "source": [
    "#### Remove every element in the following list from `set1` if they are present in the set. Print the remaining elements.\n",
    "\n",
    "```\n",
    "list_to_remove = [1, 9, 11, 19, 21, 29, 31, 39, 41, 49, 51, 59, 61, 69, 71, 79, 81, 89, 91, 99]\n",
    "```"
   ]
  },
  {
   "cell_type": "code",
   "execution_count": null,
   "metadata": {},
   "outputs": [],
   "source": [
    "list_to_remove = [1, 9, 11, 19, 21, 29, 31, 39, 41, 49, 51, 59, 61, 69, 71, 79, 81, 89, 91, 99]\n",
    "for i in list_to_remove:\n",
    "    set1.discard(i)\n",
    "set1"
   ]
  }
 ],
 "metadata": {
  "kernelspec": {
   "display_name": "Python 3",
   "language": "python",
   "name": "python3"
  },
  "language_info": {
   "codemirror_mode": {
    "name": "ipython",
    "version": 3
   },
   "file_extension": ".py",
   "mimetype": "text/x-python",
   "name": "python",
   "nbconvert_exporter": "python",
   "pygments_lexer": "ipython3",
   "version": "3.7.4"
  }
 },
 "nbformat": 4,
 "nbformat_minor": 2
}
